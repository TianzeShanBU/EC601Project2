{
 "cells": [
  {
   "cell_type": "code",
   "execution_count": 2,
   "source": [
    "import json\r\n",
    "import csv\r\n",
    "import tweepy\r\n",
    "import re\r\n",
    "import yweather\r\n",
    "import pandas as pd"
   ],
   "outputs": [],
   "metadata": {}
  },
  {
   "cell_type": "code",
   "execution_count": 3,
   "source": [
    "#Twitter API credentials\r\n",
    "consumer_key = \"\"\r\n",
    "consumer_secret = \"\"\r\n",
    "access_key = \"\"\r\n",
    "access_secret = \"\"\r\n",
    "\r\n",
    "#authorize twitter, initialize tweepy\r\n",
    "auth = tweepy.OAuthHandler(consumer_key, consumer_secret)\r\n",
    "auth.set_access_token(access_key, access_secret)\r\n",
    "api = tweepy.API(auth)"
   ],
   "outputs": [],
   "metadata": {}
  },
  {
   "cell_type": "code",
   "execution_count": 4,
   "source": [
    "import os\r\n",
    "from google.cloud import language_v1\r\n",
    "\r\n",
    "credential_path = \"D:\\Download\\ec601-327201-544fe77b03a7.json\"\r\n",
    "os.environ['GOOGLE_APPLICATION_CREDENTIALS'] = credential_path\r\n",
    "# Instantiates a client\r\n",
    "client = language_v1.LanguageServiceClient()\r\n",
    "\r\n",
    "def sentimentScore(text):\r\n",
    "    document = language_v1.Document(content=text, type_=language_v1.Document.Type.PLAIN_TEXT)\r\n",
    "    # Detects the sentiment of the text\r\n",
    "    sentiment = client.analyze_sentiment(request={'document': document}).document_sentiment\r\n",
    "    return sentiment.score\r\n"
   ],
   "outputs": [],
   "metadata": {}
  },
  {
   "cell_type": "code",
   "execution_count": 5,
   "source": [
    "def getCorodinate(place):\r\n",
    "    from geopy.geocoders import Nominatim\r\n",
    "    geolocator = Nominatim(user_agent=\"myapp\")\r\n",
    "    location = geolocator.geocode(place)\r\n",
    "    return location.latitude, location.longitude"
   ],
   "outputs": [],
   "metadata": {}
  },
  {
   "cell_type": "code",
   "execution_count": 6,
   "source": [
    "def getWOEID(place):\r\n",
    "    try:\r\n",
    "        trends = api.trends_available()\r\n",
    "        for val in trends:\r\n",
    "            if (val['name'].lower() == place.lower()):\r\n",
    "                return(val['woeid']) \r\n",
    "        print('Location Not Found')\r\n",
    "    except Exception as e:\r\n",
    "        print('Exception:',e)\r\n",
    "        return(0)"
   ],
   "outputs": [],
   "metadata": {}
  },
  {
   "cell_type": "code",
   "execution_count": 7,
   "source": [
    "def get_trends_by_location(loc_id,count=50):\r\n",
    "    try:\r\n",
    "        trends = api.trends_place(loc_id)\r\n",
    "        df = pd.DataFrame([trending['name'],  trending['tweet_volume'], trending['url']] for trending in trends[0]['trends'])\r\n",
    "        df.columns = ['Trends','Volume','url']\r\n",
    "        # df = df.sort_values('Volume', ascending = False)\r\n",
    "        # print(df[:count])\r\n",
    "        return(df['Trends'][:count])\r\n",
    "    except Exception as e:\r\n",
    "        print(\"An exception occurred\",e)\r\n",
    "    \r\n",
    "print(get_trends_by_location(getWOEID('boston'),10))"
   ],
   "outputs": [
    {
     "output_type": "stream",
     "name": "stdout",
     "text": [
      "0             WhatsApp\n",
      "1                Romeo\n",
      "2              Celtics\n",
      "3         Jaylen Brown\n",
      "4                Tatum\n",
      "5           Zuckerberg\n",
      "6    #InternetShutDown\n",
      "7              Raiders\n",
      "8              Herbert\n",
      "9                 Carr\n",
      "Name: Trends, dtype: object\n"
     ]
    }
   ],
   "metadata": {}
  },
  {
   "cell_type": "code",
   "execution_count": 8,
   "source": [
    "def search_for_phrase(phrase,place,amount):\r\n",
    "    try:\r\n",
    "        df = pd.DataFrame( columns = [\"text\",'sentiment score'])\r\n",
    "        latitude = getCorodinate(place)[0]\r\n",
    "        longitude = getCorodinate(place)[1]\r\n",
    "        for tweet in tweepy.Cursor(api.search, q=phrase.encode('utf-8') +' -filter:retweets'.encode('utf-8'),geocode=str(latitude)+\",\"+str(longitude)+\",100km\",lang='en',result_type='recent',tweet_mode='extended').items(amount):\r\n",
    "            txt = tweet.full_text.replace('\\n',' ').encode('utf-8')\r\n",
    "            df=df.append({\"text\": txt,'sentiment score': sentimentScore(txt)},ignore_index=True)\r\n",
    "        # print (df)\r\n",
    "        return phrase, df['sentiment score'].mean(), df['sentiment score'].var()\r\n",
    "        \r\n",
    "    except Exception as e:\r\n",
    "        print(\"An exception occurred\",e)\r\n",
    "\r\n",
    "search_for_phrase('pizza','boston',10)"
   ],
   "outputs": [
    {
     "output_type": "execute_result",
     "data": {
      "text/plain": [
       "('pizza', 0.44999999478459357, 0.14499999438722944)"
      ]
     },
     "metadata": {},
     "execution_count": 8
    }
   ],
   "metadata": {}
  },
  {
   "cell_type": "code",
   "execution_count": 9,
   "source": [
    "def getResult(place):\r\n",
    "    data=[]\r\n",
    "    trends = get_trends_by_location(getWOEID(place),10)\r\n",
    "    for phrase in trends:\r\n",
    "        data.append(search_for_phrase(phrase,place,10))\r\n",
    "    df = pd.DataFrame(data,columns=['trends','mean of sentiment-score','variance of sentiment-score'])\r\n",
    "    print (df)"
   ],
   "outputs": [],
   "metadata": {}
  },
  {
   "cell_type": "code",
   "execution_count": 10,
   "source": [
    "if __name__ == '__main__':\r\n",
    "    getResult(\"boston\")"
   ],
   "outputs": [
    {
     "output_type": "stream",
     "name": "stdout",
     "text": [
      "              trends  mean of sentiment-score  variance of sentiment-score\n",
      "0           WhatsApp                    -0.43                     0.129000\n",
      "1              Romeo                     0.22                     0.146222\n",
      "2            Celtics                     0.15                     0.073889\n",
      "3       Jaylen Brown                     0.41                     0.045444\n",
      "4              Tatum                    -0.06                     0.120444\n",
      "5         Zuckerberg                    -0.39                     0.201000\n",
      "6  #InternetShutDown                     0.12                     0.181778\n",
      "7            Raiders                    -0.21                     0.156556\n",
      "8            Herbert                     0.07                     0.173444\n",
      "9               Carr                    -0.18                     0.170667\n"
     ]
    }
   ],
   "metadata": {}
  }
 ],
 "metadata": {
  "orig_nbformat": 4,
  "language_info": {
   "name": "python",
   "version": "3.9.7",
   "mimetype": "text/x-python",
   "codemirror_mode": {
    "name": "ipython",
    "version": 3
   },
   "pygments_lexer": "ipython3",
   "nbconvert_exporter": "python",
   "file_extension": ".py"
  },
  "kernelspec": {
   "name": "python3",
   "display_name": "Python 3.9.7 64-bit"
  },
  "interpreter": {
   "hash": "d39becee76f7865f223742ce9b770c58aafaaf5cfb36cd48f02a20b20c211ed2"
  }
 },
 "nbformat": 4,
 "nbformat_minor": 2
}